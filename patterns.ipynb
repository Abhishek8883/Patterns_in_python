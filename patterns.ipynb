{
 "cells": [
  {
   "cell_type": "markdown",
   "id": "forward-reset",
   "metadata": {},
   "source": [
    "# Pattern 1: \n",
    "\n",
    "5 5 5 5 5\n",
    "5 5 5 5\n",
    "5 5 5\n",
    "5 5\n",
    "5\n"
   ]
  },
  {
   "cell_type": "code",
   "execution_count": 1,
   "id": "adaptive-kenya",
   "metadata": {},
   "outputs": [
    {
     "name": "stdout",
     "output_type": "stream",
     "text": [
      "Enter the number5\n",
      "5 5 5 5 5 \n",
      "5 5 5 5 \n",
      "5 5 5 \n",
      "5 5 \n",
      "5 \n"
     ]
    }
   ],
   "source": [
    "n = int(input(\"Enter the number\"))\n",
    "\n",
    "for i in range(1,n+1):\n",
    "    for j in range(0,n+1-i):\n",
    "        print(n , end = ' ')\n",
    "    print()"
   ]
  },
  {
   "cell_type": "markdown",
   "id": "institutional-destruction",
   "metadata": {},
   "source": [
    "# Pattern 2:\n",
    "\n",
    "0 1 2 3 4 5\n",
    "0 1 2 3 4\n",
    "0 1 2 3\n",
    "0 1 2\n",
    "0 1"
   ]
  },
  {
   "cell_type": "code",
   "execution_count": 2,
   "id": "junior-minnesota",
   "metadata": {},
   "outputs": [
    {
     "name": "stdout",
     "output_type": "stream",
     "text": [
      "Enter the last number5\n",
      "0 1 2 3 4 5 \n",
      "0 1 2 3 4 \n",
      "0 1 2 3 \n",
      "0 1 2 \n",
      "0 1 \n"
     ]
    }
   ],
   "source": [
    "n = int(input('Enter the last number'))\n",
    "\n",
    "for i in range(0,n):\n",
    "    for j in range(0,n+1-i):\n",
    "        print(j,end = ' ')\n",
    "    print()"
   ]
  },
  {
   "cell_type": "markdown",
   "id": "confident-alaska",
   "metadata": {},
   "source": [
    "## Pattern3:\n",
    "1\n",
    "3 3\n",
    "5 5 5\n",
    "7 7 7 7\n",
    "9 9 9 9 9"
   ]
  },
  {
   "cell_type": "code",
   "execution_count": 3,
   "id": "naval-steel",
   "metadata": {},
   "outputs": [
    {
     "name": "stdout",
     "output_type": "stream",
     "text": [
      "Enter the last number9\n",
      "1\n",
      "3 3 \n",
      "5 5 5 \n",
      "7 7 7 7 \n",
      "9 9 9 9 9 \n"
     ]
    }
   ],
   "source": [
    "n = int(input('Enter the last number'))\n",
    "count = 0\n",
    "for i in range(0,n+1):\n",
    "    if i==1:\n",
    "        print(1)\n",
    "    elif i%2 !=0:\n",
    "        count +=1\n",
    "        for j in range(0,count+1):\n",
    "            print(i,end = ' ')\n",
    "        print()"
   ]
  },
  {
   "cell_type": "markdown",
   "id": "sunset-pottery",
   "metadata": {},
   "source": [
    "# Pattern 4:\n",
    "1\n",
    "2 1\n",
    "3 2 1\n",
    "4 3 2 1\n",
    "5 4 3 2 1"
   ]
  },
  {
   "cell_type": "code",
   "execution_count": 4,
   "id": "awful-police",
   "metadata": {},
   "outputs": [
    {
     "name": "stdout",
     "output_type": "stream",
     "text": [
      "Enter the biggest number\n",
      "5\n",
      "1 \n",
      "2 1 \n",
      "3 2 1 \n",
      "4 3 2 1 \n",
      "5 4 3 2 1 \n"
     ]
    }
   ],
   "source": [
    "n = int(input('Enter the biggest number\\n'))\n",
    "\n",
    "for i in range(1,n+1):\n",
    "    print(i ,end = ' ')\n",
    "    for j in range (1,i):\n",
    "        \n",
    "        print((j-i)*(-1) , end =' ')\n",
    "    print()"
   ]
  },
  {
   "cell_type": "markdown",
   "id": "anticipated-plain",
   "metadata": {},
   "source": [
    "# Pattern 5:\n",
    "1\n",
    "3 2\n",
    "6 5 4\n",
    "10 9 8 7"
   ]
  },
  {
   "cell_type": "code",
   "execution_count": 5,
   "id": "informal-bryan",
   "metadata": {},
   "outputs": [
    {
     "name": "stdout",
     "output_type": "stream",
     "text": [
      "Enter the biggest number\n",
      "10\n",
      "1 \n",
      "3 2 \n",
      "6 5 4 \n",
      "10 9 8 7 \n"
     ]
    }
   ],
   "source": [
    "n = int(input('Enter the biggest number\\n'))\n",
    "\n",
    "lst =[0]\n",
    "for i in range(1,n//2):\n",
    "        s = i+int(lst[i-1])\n",
    "        lst.append(s) \n",
    "        print(s,end = ' ')\n",
    "        for j in range (1,i):\n",
    "            print((j-s)*(-1), end =' ' )\n",
    "        print()"
   ]
  },
  {
   "cell_type": "markdown",
   "id": "protecting-relation",
   "metadata": {},
   "source": [
    "# Pattern 6:\n",
    "1\n",
    "1 1\n",
    "1 2 1\n",
    "1 3 3 1\n",
    "1 4 6 4 1\n",
    "1 5 10 10 5 1\n",
    "1 6 15 20 15 6 1"
   ]
  },
  {
   "cell_type": "code",
   "execution_count": 6,
   "id": "outdoor-cannon",
   "metadata": {},
   "outputs": [
    {
     "name": "stdout",
     "output_type": "stream",
     "text": [
      "Enter the number of lines\n",
      "7\n",
      "1\n",
      "1 1\n",
      "1 2 1\n",
      "1 3 3 1\n",
      "1 4 6 4 1\n",
      "1 6 1 0 5 1\n",
      "1 7 7 1 5 6 1\n"
     ]
    }
   ],
   "source": [
    "n = int(input('Enter the number of lines\\n'))\n",
    "for i in range(n):\n",
    "    print(' '.join(map(str, str(11**i))))"
   ]
  },
  {
   "cell_type": "markdown",
   "id": "challenging-accused",
   "metadata": {},
   "source": [
    "## Pattern 7:\n",
    "1 2 3 4 5\n",
    "2 2 3 4 5\n",
    "3 3 3 4 5\n",
    "4 4 4 4 5\n",
    "5 5 5 5 5"
   ]
  },
  {
   "cell_type": "code",
   "execution_count": 7,
   "id": "nominated-portfolio",
   "metadata": {},
   "outputs": [
    {
     "name": "stdout",
     "output_type": "stream",
     "text": [
      "1 2 3 4 5 \n",
      "2 2 3 4 5 \n",
      "3 3 3 4 5 \n",
      "4 4 4 4 5 \n",
      "5 5 5 5 5 \n"
     ]
    }
   ],
   "source": [
    "n = 5 \n",
    "\n",
    "for i in range(1,n+1):\n",
    "    for j in range(1,n+1):\n",
    "        if j <= i:\n",
    "            print(i, end=' ')\n",
    "        else:\n",
    "            print(j, end=' ')\n",
    "    print()"
   ]
  },
  {
   "cell_type": "markdown",
   "id": "increased-efficiency",
   "metadata": {},
   "source": [
    "## Pattern 8:\n",
    "1\n",
    "2 4\n",
    "3 6 9\n",
    "4 8 12 16\n",
    "5 10 15 20 25\n",
    "6 12 18 24 30 36\n",
    "7 14 21 28 35 42 49\n",
    "8 16 24 32 40 48 56 64"
   ]
  },
  {
   "cell_type": "code",
   "execution_count": 8,
   "id": "sacred-worst",
   "metadata": {},
   "outputs": [
    {
     "name": "stdout",
     "output_type": "stream",
     "text": [
      "Enter the last number\n",
      "8\n",
      "1 \n",
      "2 4 \n",
      "3 6 9 \n",
      "4 8 12 16 \n",
      "5 10 15 20 25 \n",
      "6 12 18 24 30 36 \n",
      "7 14 21 28 35 42 49 \n",
      "8 16 24 32 40 48 56 64 \n"
     ]
    }
   ],
   "source": [
    "n = int(input('Enter the last number\\n'))\n",
    "\n",
    "for i in range(1,n+1):\n",
    "    print(i,end = ' ')\n",
    "    for j in range(1,i):\n",
    "        print(i+i*j,end=' ')\n",
    "    print()"
   ]
  },
  {
   "cell_type": "markdown",
   "id": "purple-lounge",
   "metadata": {},
   "source": [
    "## Pattern 9:\n",
    "* * * * * *\n",
    " * * * * *\n",
    "  * * * *\n",
    "   * * *\n",
    "    * *\n",
    "     *"
   ]
  },
  {
   "cell_type": "code",
   "execution_count": 9,
   "id": "varying-selection",
   "metadata": {},
   "outputs": [
    {
     "name": "stdout",
     "output_type": "stream",
     "text": [
      "Enter the number of lines\n",
      "6\n",
      "* * * * * * \n",
      " * * * * * \n",
      "  * * * * \n",
      "   * * * \n",
      "    * * \n",
      "     * \n"
     ]
    }
   ],
   "source": [
    "n = int(input('Enter the number of lines\\n'))\n",
    "\n",
    "for i in range(0,n):\n",
    "    for j in range(1,i+1):\n",
    "        print('',end=' ')\n",
    "    for k in range(0,n-i):\n",
    "        print('*',end=' ')\n",
    "    print()"
   ]
  },
  {
   "cell_type": "markdown",
   "id": "simple-familiar",
   "metadata": {},
   "source": [
    "## Pattern 10:\n",
    "       *\n",
    "      * *\n",
    "     * * *\n",
    "    * * * *\n",
    "   * * * * *\n",
    "  * * * * * *\n",
    " * * * * * * *"
   ]
  },
  {
   "cell_type": "code",
   "execution_count": 10,
   "id": "renewable-lawsuit",
   "metadata": {},
   "outputs": [
    {
     "name": "stdout",
     "output_type": "stream",
     "text": [
      "Enter the number of lines\n",
      "7\n",
      "       * \n",
      "      * * \n",
      "     * * * \n",
      "    * * * * \n",
      "   * * * * * \n",
      "  * * * * * * \n",
      " * * * * * * * \n"
     ]
    }
   ],
   "source": [
    "n = int(input('Enter the number of lines\\n'))\n",
    "\n",
    "for i in range(0,n):\n",
    "    for j in range(0,n):\n",
    "        print(' ',end='')\n",
    "    for k in range(0,i+1):\n",
    "        print('*',end=' ')\n",
    "    n-=1\n",
    "    print()"
   ]
  },
  {
   "cell_type": "markdown",
   "id": "compliant-opportunity",
   "metadata": {},
   "source": [
    "##  Pattern 11:\n",
    "*\n",
    "* *\n",
    "* * *\n",
    "* * * *\n",
    "* * * * *\n",
    "* * * * * *\n",
    "\n",
    "* * * * * *\n",
    "* * * * *\n",
    "* * * *\n",
    "* * *\n",
    "* *\n",
    "*"
   ]
  },
  {
   "cell_type": "code",
   "execution_count": 11,
   "id": "certain-skill",
   "metadata": {},
   "outputs": [
    {
     "name": "stdout",
     "output_type": "stream",
     "text": [
      "Enter the number of lines\n",
      "6\n",
      "* \n",
      "* * \n",
      "* * * \n",
      "* * * * \n",
      "* * * * * \n",
      "* * * * * * \n",
      "\n",
      "* * * * * * \n",
      "* * * * * \n",
      "* * * * \n",
      "* * * \n",
      "* * \n",
      "* \n"
     ]
    }
   ],
   "source": [
    "n = int(input('Enter the number of lines\\n'))\n",
    "\n",
    "for i in range(0,n):\n",
    "    for k in range(0,i+1):\n",
    "        print('*',end=' ')\n",
    "    print()\n",
    "print()\n",
    "for i in range(0,n):\n",
    "    for k in range(0,n):\n",
    "        print('*',end=' ')\n",
    "    n-=1\n",
    "    print()"
   ]
  },
  {
   "cell_type": "markdown",
   "id": "recovered-painting",
   "metadata": {},
   "source": [
    "## Pattern 12:\n",
    "*\n",
    "* *\n",
    "* * *\n",
    "* * * *\n",
    "* * * * *\n",
    "* * * *\n",
    "* * *\n",
    "* *\n",
    "*"
   ]
  },
  {
   "cell_type": "code",
   "execution_count": 12,
   "id": "military-exhaust",
   "metadata": {},
   "outputs": [
    {
     "name": "stdout",
     "output_type": "stream",
     "text": [
      "Enter the number of lines\n",
      "5\n",
      "* \n",
      "* * \n",
      "* * * \n",
      "* * * * \n",
      "* * * * * \n",
      "* * * * \n",
      "* * * \n",
      "* * \n",
      "* \n"
     ]
    }
   ],
   "source": [
    "n = int(input('Enter the number of lines\\n'))\n",
    "\n",
    "for i in range(0,n):\n",
    "    for k in range(0,i+1):\n",
    "        print('*',end=' ')\n",
    "    print()\n",
    "for i in range(1,n):\n",
    "    for k in range(1,n):\n",
    "        print('*',end=' ')\n",
    "    n-=1\n",
    "    print()"
   ]
  },
  {
   "cell_type": "markdown",
   "id": "powered-procedure",
   "metadata": {},
   "source": [
    "## Pattern 13:\n",
    "        *\n",
    "      * *\n",
    "    * * *\n",
    "  * * * *\n",
    "* * * * *\n",
    "  * * * *\n",
    "    * * *\n",
    "      * *\n",
    "        *"
   ]
  },
  {
   "cell_type": "code",
   "execution_count": 13,
   "id": "dirty-professional",
   "metadata": {},
   "outputs": [
    {
     "name": "stdout",
     "output_type": "stream",
     "text": [
      "Enter the number of lines\n",
      "5\n",
      "          * \n",
      "        * * \n",
      "      * * * \n",
      "    * * * * \n",
      "  * * * * * \n",
      "    * * * * \n",
      "      * * * \n",
      "        * * \n",
      "          * \n"
     ]
    }
   ],
   "source": [
    "n = int(input('Enter the number of lines\\n'))\n",
    "s=n\n",
    "for i in range(0,n):\n",
    "    for j in range(0,n):\n",
    "        print(' ',end=' ')\n",
    "    n-=1\n",
    "    for k in range(0,i+1):\n",
    "        print('*',end=' ')\n",
    "    print()\n",
    "for i in range(1,s):\n",
    "    for j in range(0,i+1):\n",
    "        print(' ',end=' ')\n",
    "    for k in range(1,s):\n",
    "        print('*',end=' ')\n",
    "    s-=1\n",
    "    print()"
   ]
  },
  {
   "cell_type": "markdown",
   "id": "final-detroit",
   "metadata": {},
   "source": [
    "## Pattern 14:\n",
    "* * * * *\n",
    " * * * *\n",
    "  * * *\n",
    "   * *\n",
    "    *\n",
    "    *\n",
    "   * *\n",
    "  * * *\n",
    " * * * *\n",
    "* * * * *"
   ]
  },
  {
   "cell_type": "code",
   "execution_count": 14,
   "id": "blocked-deputy",
   "metadata": {},
   "outputs": [
    {
     "name": "stdout",
     "output_type": "stream",
     "text": [
      "* * * * * \n",
      " * * * * \n",
      "  * * * \n",
      "   * * \n",
      "    * \n",
      "     \n",
      "    * \n",
      "   * * \n",
      "  * * * \n",
      " * * * * \n"
     ]
    }
   ],
   "source": [
    "n = 5\n",
    "\n",
    "for i in range(0,n):\n",
    "    for j in range(1,i+1):\n",
    "        print(' ',end='')\n",
    "    for k in range(0,n-i):\n",
    "        print('*',end=' ')\n",
    "    print()\n",
    "for i in range(0,n):\n",
    "    for j in range(0,n):\n",
    "        print(' ',end='')\n",
    "    for k in range(0,i):\n",
    "        print('*',end=' ')\n",
    "    n-=1\n",
    "    print()"
   ]
  },
  {
   "cell_type": "markdown",
   "id": "material-concentrate",
   "metadata": {},
   "source": [
    "# Pattern 15:\n",
    "****************\n",
    "*******__*******\n",
    "******____******\n",
    "*****______*****\n",
    "****________****\n",
    "***__________***\n",
    "**____________**\n",
    "*______________*"
   ]
  },
  {
   "cell_type": "code",
   "execution_count": 15,
   "id": "nonprofit-technology",
   "metadata": {},
   "outputs": [
    {
     "name": "stdout",
     "output_type": "stream",
     "text": [
      "****************\n",
      "*******__*******\n",
      "******____******\n",
      "*****______*****\n",
      "****________****\n",
      "***__________***\n",
      "**____________**\n",
      "*______________*\n"
     ]
    }
   ],
   "source": [
    "n = 8\n",
    "\n",
    "for i in range(0,n):\n",
    "    for j  in range(0,n):\n",
    "        print('*',end ='')\n",
    "    for k in range(0,i):\n",
    "        print('_',end='')\n",
    "    for l in range(0,i):\n",
    "        print('_',end='')\n",
    "    for m in range(0,n):\n",
    "        print('*',end='')\n",
    "    n-=1    \n",
    "    print()\n",
    "    "
   ]
  },
  {
   "cell_type": "code",
   "execution_count": null,
   "id": "impressed-october",
   "metadata": {},
   "outputs": [],
   "source": []
  }
 ],
 "metadata": {
  "kernelspec": {
   "display_name": "Python 3",
   "language": "python",
   "name": "python3"
  },
  "language_info": {
   "codemirror_mode": {
    "name": "ipython",
    "version": 3
   },
   "file_extension": ".py",
   "mimetype": "text/x-python",
   "name": "python",
   "nbconvert_exporter": "python",
   "pygments_lexer": "ipython3",
   "version": "3.9.0"
  }
 },
 "nbformat": 4,
 "nbformat_minor": 5
}
